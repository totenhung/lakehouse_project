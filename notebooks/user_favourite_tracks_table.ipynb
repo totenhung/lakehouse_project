{
 "cells": [
  {
   "cell_type": "code",
   "execution_count": null,
   "id": "7de2df6d-f832-4a1c-9df3-b6cef02a355b",
   "metadata": {},
   "outputs": [],
   "source": [
    "%%sql\n",
    "CREATE DATABASE IF NOT EXISTS gold"
   ]
  },
  {
   "cell_type": "code",
   "execution_count": null,
   "id": "1ec45ffc-6b10-413b-b0ce-197717f4bf3f",
   "metadata": {},
   "outputs": [],
   "source": [
    "%%sql\n",
    "DROP TABLE IF EXISTS gold.user_favourite_tracks"
   ]
  },
  {
   "cell_type": "code",
   "execution_count": null,
   "id": "1a4c2aaf-d7ab-4fbd-89a8-0011f9610c06",
   "metadata": {},
   "outputs": [],
   "source": [
    "%%sql\n",
    "CREATE TABLE IF NOT EXISTS gold.user_favourite_tracks(\n",
    "    user_name string,\n",
    "    track_id\t              string,\n",
    "    )\n",
    "USING iceberg"
   ]
  }
 ],
 "metadata": {
  "kernelspec": {
   "display_name": "Python 3 (ipykernel)",
   "language": "python",
   "name": "python3"
  },
  "language_info": {
   "codemirror_mode": {
    "name": "ipython",
    "version": 3
   },
   "file_extension": ".py",
   "mimetype": "text/x-python",
   "name": "python",
   "nbconvert_exporter": "python",
   "pygments_lexer": "ipython3",
   "version": "3.9.17"
  }
 },
 "nbformat": 4,
 "nbformat_minor": 5
}
